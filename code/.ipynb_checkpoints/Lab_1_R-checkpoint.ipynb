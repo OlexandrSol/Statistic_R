{
 "cells": [
  {
   "cell_type": "code",
   "execution_count": 1,
   "id": "1612bd23-303d-497e-a722-1fa4cb1a136d",
   "metadata": {},
   "outputs": [
    {
     "name": "stderr",
     "output_type": "stream",
     "text": [
      "\n",
      "Attaching package: ‘dplyr’\n",
      "\n",
      "\n",
      "The following objects are masked from ‘package:stats’:\n",
      "\n",
      "    filter, lag\n",
      "\n",
      "\n",
      "The following objects are masked from ‘package:base’:\n",
      "\n",
      "    intersect, setdiff, setequal, union\n",
      "\n",
      "\n"
     ]
    }
   ],
   "source": [
    "library(dplyr)\n",
    "library(ggplot2)"
   ]
  },
  {
   "cell_type": "code",
   "execution_count": 2,
   "id": "8949a8e6-b984-4ca0-88b5-9b7840fb50be",
   "metadata": {},
   "outputs": [],
   "source": [
    "# Інсталюємо пакети якщо нема за допомогою\n",
    "#install.packages(\"dplyr\")\n",
    "#install.packages(\"ggplot2\")"
   ]
  },
  {
   "cell_type": "code",
   "execution_count": 3,
   "id": "beeb0de4-091b-419f-ab69-5adb4e5bd43e",
   "metadata": {},
   "outputs": [],
   "source": [
    "setwd(\"/home/olexandr/Documents/GitHub/Statistics_R/data_source\")"
   ]
  },
  {
   "cell_type": "code",
   "execution_count": 4,
   "id": "d26168a0-3e51-4dec-9b06-1f5d2aed1b82",
   "metadata": {},
   "outputs": [],
   "source": [
    "flats <- read.csv(\"flats.csv\", stringsAsFactors=FALSE, encoding=\"UTF-8\")"
   ]
  },
  {
   "cell_type": "code",
   "execution_count": 5,
   "id": "3bdc07e3-e52a-4758-8462-65eed3b175bb",
   "metadata": {},
   "outputs": [
    {
     "data": {
      "text/html": [
       "'data.frame'"
      ],
      "text/latex": [
       "'data.frame'"
      ],
      "text/markdown": [
       "'data.frame'"
      ],
      "text/plain": [
       "[1] \"data.frame\""
      ]
     },
     "metadata": {},
     "output_type": "display_data"
    }
   ],
   "source": [
    "#Визначимо клас обє'кта flats\n",
    "class(flats)"
   ]
  },
  {
   "cell_type": "code",
   "execution_count": 6,
   "id": "251b03bd-77bf-4ae7-b19b-173e3cb71cb5",
   "metadata": {},
   "outputs": [
    {
     "name": "stdout",
     "output_type": "stream",
     "text": [
      "'data.frame':\t839 obs. of  4 variables:\n",
      " $ Місто         : chr  \"Вінниця\" \"Вінниця\" \"Вінниця\" \"Вінниця\" ...\n",
      " $ Кімнат        : int  3 3 2 2 3 1 3 3 1 6 ...\n",
      " $ Загальна_площа: chr  \"120\" \"66\" \"66\" \"44\" ...\n",
      " $ Ціна          : num  1875000 975000 1375000 637500 835000 ...\n"
     ]
    }
   ],
   "source": [
    "#В R ви можете використовувавит функцію str(скорочення від structure) щоб швидко оцінити, чи правильно зчиталися ваші дані.\n",
    "str(flats)"
   ]
  },
  {
   "cell_type": "markdown",
   "id": "101f93bb-a3e7-461a-8550-64ed656c3893",
   "metadata": {},
   "source": [
    "Бачимо, що в якості десяткового розділювача по замовчуванню використовується\n",
    "крапка dec ='.'. А в наших даних десятковим розділювачем є кома."
   ]
  },
  {
   "cell_type": "code",
   "execution_count": 8,
   "id": "9baab40e-1a36-4b01-9124-722133cf6677",
   "metadata": {},
   "outputs": [],
   "source": [
    "#Заново зчитаємо дані, вказавши параметр десяткового розділювача:\n",
    "flats <- read.csv(\"flats.csv\", stringsAsFactors=FALSE, dec= \",\")"
   ]
  },
  {
   "cell_type": "code",
   "execution_count": 10,
   "id": "6f0103aa-7452-412b-88a5-6ac8e1a83075",
   "metadata": {},
   "outputs": [
    {
     "name": "stdout",
     "output_type": "stream",
     "text": [
      "'data.frame':\t839 obs. of  4 variables:\n",
      " $ Місто         : chr  \"Вінниця\" \"Вінниця\" \"Вінниця\" \"Вінниця\" ...\n",
      " $ Кімнат        : int  3 3 2 2 3 1 3 3 1 6 ...\n",
      " $ Загальна_площа: num  120 66 66 44 63 31 46 64 35 200 ...\n",
      " $ Ціна          : num  1875000 975000 1375000 637500 835000 ...\n"
     ]
    }
   ],
   "source": [
    "#Знов перевіримо структуру\n",
    "str(flats)"
   ]
  },
  {
   "cell_type": "markdown",
   "id": "ee67278f-4099-4f53-8a5b-d5f048533519",
   "metadata": {},
   "source": [
    "Дослідження даних"
   ]
  },
  {
   "cell_type": "code",
   "execution_count": 13,
   "id": "8a743789-1847-4b54-9509-f6e8b10a53ae",
   "metadata": {},
   "outputs": [
    {
     "data": {
      "text/html": [
       "<style>\n",
       ".list-inline {list-style: none; margin:0; padding: 0}\n",
       ".list-inline>li {display: inline-block}\n",
       ".list-inline>li:not(:last-child)::after {content: \"\\00b7\"; padding: 0 .5ex}\n",
       "</style>\n",
       "<ol class=list-inline><li>839</li><li>4</li></ol>\n"
      ],
      "text/latex": [
       "\\begin{enumerate*}\n",
       "\\item 839\n",
       "\\item 4\n",
       "\\end{enumerate*}\n"
      ],
      "text/markdown": [
       "1. 839\n",
       "2. 4\n",
       "\n",
       "\n"
      ],
      "text/plain": [
       "[1] 839   4"
      ]
     },
     "metadata": {},
     "output_type": "display_data"
    }
   ],
   "source": [
    "dim(flats)"
   ]
  },
  {
   "cell_type": "code",
   "execution_count": 15,
   "id": "b0ae4bc1-1c2c-4c3d-bd2b-319887011910",
   "metadata": {},
   "outputs": [
    {
     "data": {
      "text/html": [
       "<table class=\"dataframe\">\n",
       "<caption>A data.frame: 6 × 4</caption>\n",
       "<thead>\n",
       "\t<tr><th></th><th scope=col>Місто</th><th scope=col>Кімнат</th><th scope=col>Загальна_площа</th><th scope=col>Ціна</th></tr>\n",
       "\t<tr><th></th><th scope=col>&lt;chr&gt;</th><th scope=col>&lt;int&gt;</th><th scope=col>&lt;dbl&gt;</th><th scope=col>&lt;dbl&gt;</th></tr>\n",
       "</thead>\n",
       "<tbody>\n",
       "\t<tr><th scope=row>1</th><td>Вінниця</td><td>3</td><td>120</td><td>1875000</td></tr>\n",
       "\t<tr><th scope=row>2</th><td>Вінниця</td><td>3</td><td> 66</td><td> 975000</td></tr>\n",
       "\t<tr><th scope=row>3</th><td>Вінниця</td><td>2</td><td> 66</td><td>1375000</td></tr>\n",
       "\t<tr><th scope=row>4</th><td>Вінниця</td><td>2</td><td> 44</td><td> 637500</td></tr>\n",
       "\t<tr><th scope=row>5</th><td>Вінниця</td><td>3</td><td> 63</td><td> 835000</td></tr>\n",
       "\t<tr><th scope=row>6</th><td>Вінниця</td><td>1</td><td> 31</td><td> 562500</td></tr>\n",
       "</tbody>\n",
       "</table>\n"
      ],
      "text/latex": [
       "A data.frame: 6 × 4\n",
       "\\begin{tabular}{r|llll}\n",
       "  & Місто & Кімнат & Загальна\\_площа & Ціна\\\\\n",
       "  & <chr> & <int> & <dbl> & <dbl>\\\\\n",
       "\\hline\n",
       "\t1 & Вінниця & 3 & 120 & 1875000\\\\\n",
       "\t2 & Вінниця & 3 &  66 &  975000\\\\\n",
       "\t3 & Вінниця & 2 &  66 & 1375000\\\\\n",
       "\t4 & Вінниця & 2 &  44 &  637500\\\\\n",
       "\t5 & Вінниця & 3 &  63 &  835000\\\\\n",
       "\t6 & Вінниця & 1 &  31 &  562500\\\\\n",
       "\\end{tabular}\n"
      ],
      "text/markdown": [
       "\n",
       "A data.frame: 6 × 4\n",
       "\n",
       "| <!--/--> | Місто &lt;chr&gt; | Кімнат &lt;int&gt; | Загальна_площа &lt;dbl&gt; | Ціна &lt;dbl&gt; |\n",
       "|---|---|---|---|---|\n",
       "| 1 | Вінниця | 3 | 120 | 1875000 |\n",
       "| 2 | Вінниця | 3 |  66 |  975000 |\n",
       "| 3 | Вінниця | 2 |  66 | 1375000 |\n",
       "| 4 | Вінниця | 2 |  44 |  637500 |\n",
       "| 5 | Вінниця | 3 |  63 |  835000 |\n",
       "| 6 | Вінниця | 1 |  31 |  562500 |\n",
       "\n"
      ],
      "text/plain": [
       "  Місто   Кімнат Загальна_площа Ціна   \n",
       "1 Вінниця 3      120            1875000\n",
       "2 Вінниця 3       66             975000\n",
       "3 Вінниця 2       66            1375000\n",
       "4 Вінниця 2       44             637500\n",
       "5 Вінниця 3       63             835000\n",
       "6 Вінниця 1       31             562500"
      ]
     },
     "metadata": {},
     "output_type": "display_data"
    }
   ],
   "source": [
    "head(flats, 6)"
   ]
  },
  {
   "cell_type": "code",
   "execution_count": 17,
   "id": "6a2378a8-2080-46b2-ac02-bf6e3a2604d1",
   "metadata": {},
   "outputs": [
    {
     "data": {
      "text/html": [
       "<style>\n",
       ".list-inline {list-style: none; margin:0; padding: 0}\n",
       ".list-inline>li {display: inline-block}\n",
       ".list-inline>li:not(:last-child)::after {content: \"\\00b7\"; padding: 0 .5ex}\n",
       "</style>\n",
       "<ol class=list-inline><li>'Місто'</li><li>'Кімнат'</li><li>'Загальна_площа'</li><li>'Ціна'</li></ol>\n"
      ],
      "text/latex": [
       "\\begin{enumerate*}\n",
       "\\item 'Місто'\n",
       "\\item 'Кімнат'\n",
       "\\item 'Загальна\\_площа'\n",
       "\\item 'Ціна'\n",
       "\\end{enumerate*}\n"
      ],
      "text/markdown": [
       "1. 'Місто'\n",
       "2. 'Кімнат'\n",
       "3. 'Загальна_площа'\n",
       "4. 'Ціна'\n",
       "\n",
       "\n"
      ],
      "text/plain": [
       "[1] \"Місто\"          \"Кімнат\"         \"Загальна_площа\" \"Ціна\"          "
      ]
     },
     "metadata": {},
     "output_type": "display_data"
    }
   ],
   "source": [
    "names(flats)"
   ]
  },
  {
   "cell_type": "markdown",
   "id": "5d48e0a0-0a22-4713-a771-338d903dc04d",
   "metadata": {},
   "source": [
    "Трансформація даних"
   ]
  },
  {
   "cell_type": "code",
   "execution_count": 20,
   "id": "7950ba40-3c05-488a-be3d-16106e6e996c",
   "metadata": {},
   "outputs": [
    {
     "data": {
      "text/plain": [
       "    Місто               Кімнат      Загальна_площа        Ціна         \n",
       " Length:839         Min.   :1.000   Min.   : 14.00   Min.   :   10200  \n",
       " Class :character   1st Qu.:1.000   1st Qu.: 43.75   1st Qu.:  537500  \n",
       " Mode  :character   Median :2.000   Median : 56.00   Median :  775000  \n",
       "                    Mean   :2.045   Mean   : 64.07   Mean   : 1042710  \n",
       "                    3rd Qu.:3.000   3rd Qu.: 75.00   3rd Qu.: 1200000  \n",
       "                    Max.   :6.000   Max.   :222.60   Max.   :12250000  "
      ]
     },
     "metadata": {},
     "output_type": "display_data"
    }
   ],
   "source": [
    "summary(flats)"
   ]
  },
  {
   "cell_type": "code",
   "execution_count": 22,
   "id": "09568b5c-67c8-408c-9078-9048bc4a64d2",
   "metadata": {},
   "outputs": [
    {
     "name": "stdout",
     "output_type": "stream",
     "text": [
      "Rows: 839\n",
      "Columns: 4\n",
      "$ Місто          \u001b[3m\u001b[90m<chr>\u001b[39m\u001b[23m \"Вінниця\", \"Вінниця\", \"Вінниця\", \"Вінниця\", \"Вінниця\", …\n",
      "$ Кімнат         \u001b[3m\u001b[90m<int>\u001b[39m\u001b[23m 3, 3, 2, 2, 3, 1, 3, 3, 1, 6, 2, 1, 1, 2, 3, 3, 3, 2, 1…\n",
      "$ Загальна_площа \u001b[3m\u001b[90m<dbl>\u001b[39m\u001b[23m 120.00, 66.00, 66.00, 44.00, 63.00, 31.00, 46.00, 64.00…\n",
      "$ Ціна           \u001b[3m\u001b[90m<dbl>\u001b[39m\u001b[23m 1875000, 975000, 1375000, 637500, 835000, 562500, 11500…\n"
     ]
    }
   ],
   "source": [
    "glimpse(flats)"
   ]
  },
  {
   "cell_type": "code",
   "execution_count": 24,
   "id": "8668a3c2-aecb-4c1b-9e48-b25d9c10f48f",
   "metadata": {},
   "outputs": [
    {
     "data": {
      "text/html": [
       "<table class=\"dataframe\">\n",
       "<caption>A data.frame: 13 × 2</caption>\n",
       "<thead>\n",
       "\t<tr><th scope=col>Місто</th><th scope=col>n</th></tr>\n",
       "\t<tr><th scope=col>&lt;chr&gt;</th><th scope=col>&lt;int&gt;</th></tr>\n",
       "</thead>\n",
       "<tbody>\n",
       "\t<tr><td>Івано-Франківськ   </td><td> 47</td></tr>\n",
       "\t<tr><td>Вінниця            </td><td>275</td></tr>\n",
       "\t<tr><td>Дніпропетровськ    </td><td> 18</td></tr>\n",
       "\t<tr><td>Запоріжжя          </td><td> 13</td></tr>\n",
       "\t<tr><td>Києво-Святошинський</td><td> 19</td></tr>\n",
       "\t<tr><td>Київ               </td><td>186</td></tr>\n",
       "\t<tr><td>Львів              </td><td> 16</td></tr>\n",
       "\t<tr><td>Миколаїв           </td><td> 15</td></tr>\n",
       "\t<tr><td>Одеса              </td><td> 43</td></tr>\n",
       "\t<tr><td>Рівне              </td><td> 23</td></tr>\n",
       "\t<tr><td>Тернопіль          </td><td> 93</td></tr>\n",
       "\t<tr><td>Харків             </td><td> 14</td></tr>\n",
       "\t<tr><td>Хмельницький       </td><td> 77</td></tr>\n",
       "</tbody>\n",
       "</table>\n"
      ],
      "text/latex": [
       "A data.frame: 13 × 2\n",
       "\\begin{tabular}{ll}\n",
       " Місто & n\\\\\n",
       " <chr> & <int>\\\\\n",
       "\\hline\n",
       "\t Івано-Франківськ    &  47\\\\\n",
       "\t Вінниця             & 275\\\\\n",
       "\t Дніпропетровськ     &  18\\\\\n",
       "\t Запоріжжя           &  13\\\\\n",
       "\t Києво-Святошинський &  19\\\\\n",
       "\t Київ                & 186\\\\\n",
       "\t Львів               &  16\\\\\n",
       "\t Миколаїв            &  15\\\\\n",
       "\t Одеса               &  43\\\\\n",
       "\t Рівне               &  23\\\\\n",
       "\t Тернопіль           &  93\\\\\n",
       "\t Харків              &  14\\\\\n",
       "\t Хмельницький        &  77\\\\\n",
       "\\end{tabular}\n"
      ],
      "text/markdown": [
       "\n",
       "A data.frame: 13 × 2\n",
       "\n",
       "| Місто &lt;chr&gt; | n &lt;int&gt; |\n",
       "|---|---|\n",
       "| Івано-Франківськ    |  47 |\n",
       "| Вінниця             | 275 |\n",
       "| Дніпропетровськ     |  18 |\n",
       "| Запоріжжя           |  13 |\n",
       "| Києво-Святошинський |  19 |\n",
       "| Київ                | 186 |\n",
       "| Львів               |  16 |\n",
       "| Миколаїв            |  15 |\n",
       "| Одеса               |  43 |\n",
       "| Рівне               |  23 |\n",
       "| Тернопіль           |  93 |\n",
       "| Харків              |  14 |\n",
       "| Хмельницький        |  77 |\n",
       "\n"
      ],
      "text/plain": [
       "   Місто               n  \n",
       "1  Івано-Франківськ     47\n",
       "2  Вінниця             275\n",
       "3  Дніпропетровськ      18\n",
       "4  Запоріжжя            13\n",
       "5  Києво-Святошинський  19\n",
       "6  Київ                186\n",
       "7  Львів                16\n",
       "8  Миколаїв             15\n",
       "9  Одеса                43\n",
       "10 Рівне                23\n",
       "11 Тернопіль            93\n",
       "12 Харків               14\n",
       "13 Хмельницький         77"
      ]
     },
     "metadata": {},
     "output_type": "display_data"
    }
   ],
   "source": [
    "#Дізнаємося, яка кількість квартир продається у кожному місті(згідно цього набору даних):\n",
    "count(flats, Місто)"
   ]
  },
  {
   "cell_type": "code",
   "execution_count": 26,
   "id": "6bf09fb9-ce1b-4d01-82e5-57ac191f29f9",
   "metadata": {},
   "outputs": [
    {
     "data": {
      "text/html": [
       "<table class=\"dataframe\">\n",
       "<caption>A data.frame: 13 × 2</caption>\n",
       "<thead>\n",
       "\t<tr><th scope=col>Місто</th><th scope=col>n</th></tr>\n",
       "\t<tr><th scope=col>&lt;chr&gt;</th><th scope=col>&lt;int&gt;</th></tr>\n",
       "</thead>\n",
       "<tbody>\n",
       "\t<tr><td>Запоріжжя          </td><td> 13</td></tr>\n",
       "\t<tr><td>Харків             </td><td> 14</td></tr>\n",
       "\t<tr><td>Миколаїв           </td><td> 15</td></tr>\n",
       "\t<tr><td>Львів              </td><td> 16</td></tr>\n",
       "\t<tr><td>Дніпропетровськ    </td><td> 18</td></tr>\n",
       "\t<tr><td>Києво-Святошинський</td><td> 19</td></tr>\n",
       "\t<tr><td>Рівне              </td><td> 23</td></tr>\n",
       "\t<tr><td>Одеса              </td><td> 43</td></tr>\n",
       "\t<tr><td>Івано-Франківськ   </td><td> 47</td></tr>\n",
       "\t<tr><td>Хмельницький       </td><td> 77</td></tr>\n",
       "\t<tr><td>Тернопіль          </td><td> 93</td></tr>\n",
       "\t<tr><td>Київ               </td><td>186</td></tr>\n",
       "\t<tr><td>Вінниця            </td><td>275</td></tr>\n",
       "</tbody>\n",
       "</table>\n"
      ],
      "text/latex": [
       "A data.frame: 13 × 2\n",
       "\\begin{tabular}{ll}\n",
       " Місто & n\\\\\n",
       " <chr> & <int>\\\\\n",
       "\\hline\n",
       "\t Запоріжжя           &  13\\\\\n",
       "\t Харків              &  14\\\\\n",
       "\t Миколаїв            &  15\\\\\n",
       "\t Львів               &  16\\\\\n",
       "\t Дніпропетровськ     &  18\\\\\n",
       "\t Києво-Святошинський &  19\\\\\n",
       "\t Рівне               &  23\\\\\n",
       "\t Одеса               &  43\\\\\n",
       "\t Івано-Франківськ    &  47\\\\\n",
       "\t Хмельницький        &  77\\\\\n",
       "\t Тернопіль           &  93\\\\\n",
       "\t Київ                & 186\\\\\n",
       "\t Вінниця             & 275\\\\\n",
       "\\end{tabular}\n"
      ],
      "text/markdown": [
       "\n",
       "A data.frame: 13 × 2\n",
       "\n",
       "| Місто &lt;chr&gt; | n &lt;int&gt; |\n",
       "|---|---|\n",
       "| Запоріжжя           |  13 |\n",
       "| Харків              |  14 |\n",
       "| Миколаїв            |  15 |\n",
       "| Львів               |  16 |\n",
       "| Дніпропетровськ     |  18 |\n",
       "| Києво-Святошинський |  19 |\n",
       "| Рівне               |  23 |\n",
       "| Одеса               |  43 |\n",
       "| Івано-Франківськ    |  47 |\n",
       "| Хмельницький        |  77 |\n",
       "| Тернопіль           |  93 |\n",
       "| Київ                | 186 |\n",
       "| Вінниця             | 275 |\n",
       "\n"
      ],
      "text/plain": [
       "   Місто               n  \n",
       "1  Запоріжжя            13\n",
       "2  Харків               14\n",
       "3  Миколаїв             15\n",
       "4  Львів                16\n",
       "5  Дніпропетровськ      18\n",
       "6  Києво-Святошинський  19\n",
       "7  Рівне                23\n",
       "8  Одеса                43\n",
       "9  Івано-Франківськ     47\n",
       "10 Хмельницький         77\n",
       "11 Тернопіль            93\n",
       "12 Київ                186\n",
       "13 Вінниця             275"
      ]
     },
     "metadata": {},
     "output_type": "display_data"
    }
   ],
   "source": [
    "# Посортуємо дані по кількості квартир у кожному місті у зростаючому порядку:\n",
    "flats %>%\n",
    "    count(Місто) %>%\n",
    "    arrange(n)"
   ]
  },
  {
   "cell_type": "markdown",
   "id": "cecd659d-7232-4d6e-a7f4-379d86ed06be",
   "metadata": {},
   "source": [
    "Як бачимо, Києво-Святошинський район виділений в окреме місто. Можливо тому,\n",
    "що його адміністративним центром є місто Київ.\n",
    "Вилучимо ці дані з відображення використовуючи команду filter. Нагадаю, що\n",
    "умова дорівнює позначається як ==, а не дорівнює як !=. Також посортуємо\n",
    "результати в спадаючому порядку для цього вкажемо arrange(desc(n))."
   ]
  },
  {
   "cell_type": "code",
   "execution_count": 29,
   "id": "6c37848e-c199-4182-99d2-31ca1a26f68a",
   "metadata": {},
   "outputs": [
    {
     "data": {
      "text/html": [
       "<table class=\"dataframe\">\n",
       "<caption>A data.frame: 12 × 2</caption>\n",
       "<thead>\n",
       "\t<tr><th scope=col>Місто</th><th scope=col>n</th></tr>\n",
       "\t<tr><th scope=col>&lt;chr&gt;</th><th scope=col>&lt;int&gt;</th></tr>\n",
       "</thead>\n",
       "<tbody>\n",
       "\t<tr><td>Вінниця         </td><td>60</td></tr>\n",
       "\t<tr><td>Київ            </td><td>50</td></tr>\n",
       "\t<tr><td>Тернопіль       </td><td>24</td></tr>\n",
       "\t<tr><td>Хмельницький    </td><td>22</td></tr>\n",
       "\t<tr><td>Івано-Франківськ</td><td>13</td></tr>\n",
       "\t<tr><td>Одеса           </td><td>11</td></tr>\n",
       "\t<tr><td>Дніпропетровськ </td><td> 8</td></tr>\n",
       "\t<tr><td>Запоріжжя       </td><td> 8</td></tr>\n",
       "\t<tr><td>Рівне           </td><td> 6</td></tr>\n",
       "\t<tr><td>Миколаїв        </td><td> 5</td></tr>\n",
       "\t<tr><td>Харків          </td><td> 3</td></tr>\n",
       "\t<tr><td>Львів           </td><td> 2</td></tr>\n",
       "</tbody>\n",
       "</table>\n"
      ],
      "text/latex": [
       "A data.frame: 12 × 2\n",
       "\\begin{tabular}{ll}\n",
       " Місто & n\\\\\n",
       " <chr> & <int>\\\\\n",
       "\\hline\n",
       "\t Вінниця          & 60\\\\\n",
       "\t Київ             & 50\\\\\n",
       "\t Тернопіль        & 24\\\\\n",
       "\t Хмельницький     & 22\\\\\n",
       "\t Івано-Франківськ & 13\\\\\n",
       "\t Одеса            & 11\\\\\n",
       "\t Дніпропетровськ  &  8\\\\\n",
       "\t Запоріжжя        &  8\\\\\n",
       "\t Рівне            &  6\\\\\n",
       "\t Миколаїв         &  5\\\\\n",
       "\t Харків           &  3\\\\\n",
       "\t Львів            &  2\\\\\n",
       "\\end{tabular}\n"
      ],
      "text/markdown": [
       "\n",
       "A data.frame: 12 × 2\n",
       "\n",
       "| Місто &lt;chr&gt; | n &lt;int&gt; |\n",
       "|---|---|\n",
       "| Вінниця          | 60 |\n",
       "| Київ             | 50 |\n",
       "| Тернопіль        | 24 |\n",
       "| Хмельницький     | 22 |\n",
       "| Івано-Франківськ | 13 |\n",
       "| Одеса            | 11 |\n",
       "| Дніпропетровськ  |  8 |\n",
       "| Запоріжжя        |  8 |\n",
       "| Рівне            |  6 |\n",
       "| Миколаїв         |  5 |\n",
       "| Харків           |  3 |\n",
       "| Львів            |  2 |\n",
       "\n"
      ],
      "text/plain": [
       "   Місто            n \n",
       "1  Вінниця          60\n",
       "2  Київ             50\n",
       "3  Тернопіль        24\n",
       "4  Хмельницький     22\n",
       "5  Івано-Франківськ 13\n",
       "6  Одеса            11\n",
       "7  Дніпропетровськ   8\n",
       "8  Запоріжжя         8\n",
       "9  Рівне             6\n",
       "10 Миколаїв          5\n",
       "11 Харків            3\n",
       "12 Львів             2"
      ]
     },
     "metadata": {},
     "output_type": "display_data"
    }
   ],
   "source": [
    "flats %>%\n",
    "  filter(Місто != \"Києво-Святошинський\") %>%\n",
    "  filter(Кімнат == 3) %>%\n",
    "  count(Місто) %>%\n",
    "  arrange(desc(n)) # arrange - сортування, desc - спадаючий порядок"
   ]
  },
  {
   "cell_type": "code",
   "execution_count": 31,
   "id": "e0999c31-a7ee-4d96-95a7-5d2e66371896",
   "metadata": {},
   "outputs": [
    {
     "data": {
      "text/html": [
       "<table class=\"dataframe\">\n",
       "<caption>A data.frame: 12 × 2</caption>\n",
       "<thead>\n",
       "\t<tr><th scope=col>Місто</th><th scope=col>n</th></tr>\n",
       "\t<tr><th scope=col>&lt;chr&gt;</th><th scope=col>&lt;int&gt;</th></tr>\n",
       "</thead>\n",
       "<tbody>\n",
       "\t<tr><td>Вінниця         </td><td>93</td></tr>\n",
       "\t<tr><td>Київ            </td><td>67</td></tr>\n",
       "\t<tr><td>Тернопіль       </td><td>43</td></tr>\n",
       "\t<tr><td>Хмельницький    </td><td>28</td></tr>\n",
       "\t<tr><td>Одеса           </td><td>18</td></tr>\n",
       "\t<tr><td>Івано-Франківськ</td><td>14</td></tr>\n",
       "\t<tr><td>Рівне           </td><td> 8</td></tr>\n",
       "\t<tr><td>Миколаїв        </td><td> 7</td></tr>\n",
       "\t<tr><td>Харків          </td><td> 7</td></tr>\n",
       "\t<tr><td>Дніпропетровськ </td><td> 5</td></tr>\n",
       "\t<tr><td>Львів           </td><td> 5</td></tr>\n",
       "\t<tr><td>Запоріжжя       </td><td> 2</td></tr>\n",
       "</tbody>\n",
       "</table>\n"
      ],
      "text/latex": [
       "A data.frame: 12 × 2\n",
       "\\begin{tabular}{ll}\n",
       " Місто & n\\\\\n",
       " <chr> & <int>\\\\\n",
       "\\hline\n",
       "\t Вінниця          & 93\\\\\n",
       "\t Київ             & 67\\\\\n",
       "\t Тернопіль        & 43\\\\\n",
       "\t Хмельницький     & 28\\\\\n",
       "\t Одеса            & 18\\\\\n",
       "\t Івано-Франківськ & 14\\\\\n",
       "\t Рівне            &  8\\\\\n",
       "\t Миколаїв         &  7\\\\\n",
       "\t Харків           &  7\\\\\n",
       "\t Дніпропетровськ  &  5\\\\\n",
       "\t Львів            &  5\\\\\n",
       "\t Запоріжжя        &  2\\\\\n",
       "\\end{tabular}\n"
      ],
      "text/markdown": [
       "\n",
       "A data.frame: 12 × 2\n",
       "\n",
       "| Місто &lt;chr&gt; | n &lt;int&gt; |\n",
       "|---|---|\n",
       "| Вінниця          | 93 |\n",
       "| Київ             | 67 |\n",
       "| Тернопіль        | 43 |\n",
       "| Хмельницький     | 28 |\n",
       "| Одеса            | 18 |\n",
       "| Івано-Франківськ | 14 |\n",
       "| Рівне            |  8 |\n",
       "| Миколаїв         |  7 |\n",
       "| Харків           |  7 |\n",
       "| Дніпропетровськ  |  5 |\n",
       "| Львів            |  5 |\n",
       "| Запоріжжя        |  2 |\n",
       "\n"
      ],
      "text/plain": [
       "   Місто            n \n",
       "1  Вінниця          93\n",
       "2  Київ             67\n",
       "3  Тернопіль        43\n",
       "4  Хмельницький     28\n",
       "5  Одеса            18\n",
       "6  Івано-Франківськ 14\n",
       "7  Рівне             8\n",
       "8  Миколаїв          7\n",
       "9  Харків            7\n",
       "10 Дніпропетровськ   5\n",
       "11 Львів             5\n",
       "12 Запоріжжя         2"
      ]
     },
     "metadata": {},
     "output_type": "display_data"
    }
   ],
   "source": [
    "#Якщо нас цікавлять кількість двокімнатних квартир в кожному місті, то виберемо лише квартири з кількістю кімнат 2:\n",
    "flats %>%\n",
    "  filter(Кімнат == 2) %>%\n",
    "  filter(Місто != \"Києво-Святошинський\") %>%\n",
    "  count(Місто) %>%\n",
    "  arrange(desc(n))"
   ]
  },
  {
   "cell_type": "markdown",
   "id": "fb43085a-428e-4b9b-ae9b-9520370cc54e",
   "metadata": {},
   "source": [
    "Функція summarise дозволяє узагальнити дані. Наприклад, знайти середнє значення\n",
    "площі квартир в кожному регіоні. Для обрахунку середнього значення використаємо\n",
    "функцію mean."
   ]
  },
  {
   "cell_type": "code",
   "execution_count": 34,
   "id": "58163c35-7d00-464f-ae55-a23b52233673",
   "metadata": {},
   "outputs": [
    {
     "data": {
      "text/html": [
       "<table class=\"dataframe\">\n",
       "<caption>A data.frame: 1 × 1</caption>\n",
       "<thead>\n",
       "\t<tr><th scope=col>mean(Загальна_площа)</th></tr>\n",
       "\t<tr><th scope=col>&lt;dbl&gt;</th></tr>\n",
       "</thead>\n",
       "<tbody>\n",
       "\t<tr><td>39.91854</td></tr>\n",
       "</tbody>\n",
       "</table>\n"
      ],
      "text/latex": [
       "A data.frame: 1 × 1\n",
       "\\begin{tabular}{l}\n",
       " mean(Загальна\\_площа)\\\\\n",
       " <dbl>\\\\\n",
       "\\hline\n",
       "\t 39.91854\\\\\n",
       "\\end{tabular}\n"
      ],
      "text/markdown": [
       "\n",
       "A data.frame: 1 × 1\n",
       "\n",
       "| mean(Загальна_площа) &lt;dbl&gt; |\n",
       "|---|\n",
       "| 39.91854 |\n",
       "\n"
      ],
      "text/plain": [
       "  mean(Загальна_площа)\n",
       "1 39.91854            "
      ]
     },
     "metadata": {},
     "output_type": "display_data"
    }
   ],
   "source": [
    "flats %>%\n",
    "  filter(Кімнат == 1) %>%\n",
    "  filter(Місто != \"Києво-Святошинський\") %>%\n",
    "  summarise(mean(Загальна_площа))"
   ]
  },
  {
   "cell_type": "markdown",
   "id": "8666074d-88d5-42b4-8c46-92916af79f55",
   "metadata": {},
   "source": [
    "Можна обчислити не лише площу, але й середньоквадратичне відхилення з\n",
    "допомогою функції sd:"
   ]
  },
  {
   "cell_type": "code",
   "execution_count": 37,
   "id": "4205e8f3-7665-43ee-a159-f30591c34aa1",
   "metadata": {},
   "outputs": [
    {
     "data": {
      "text/html": [
       "<table class=\"dataframe\">\n",
       "<caption>A data.frame: 1 × 2</caption>\n",
       "<thead>\n",
       "\t<tr><th scope=col>mean(Загальна_площа)</th><th scope=col>sd(Загальна_площа)</th></tr>\n",
       "\t<tr><th scope=col>&lt;dbl&gt;</th><th scope=col>&lt;dbl&gt;</th></tr>\n",
       "</thead>\n",
       "<tbody>\n",
       "\t<tr><td>60.81832</td><td>16.61458</td></tr>\n",
       "</tbody>\n",
       "</table>\n"
      ],
      "text/latex": [
       "A data.frame: 1 × 2\n",
       "\\begin{tabular}{ll}\n",
       " mean(Загальна\\_площа) & sd(Загальна\\_площа)\\\\\n",
       " <dbl> & <dbl>\\\\\n",
       "\\hline\n",
       "\t 60.81832 & 16.61458\\\\\n",
       "\\end{tabular}\n"
      ],
      "text/markdown": [
       "\n",
       "A data.frame: 1 × 2\n",
       "\n",
       "| mean(Загальна_площа) &lt;dbl&gt; | sd(Загальна_площа) &lt;dbl&gt; |\n",
       "|---|---|\n",
       "| 60.81832 | 16.61458 |\n",
       "\n"
      ],
      "text/plain": [
       "  mean(Загальна_площа) sd(Загальна_площа)\n",
       "1 60.81832             16.61458          "
      ]
     },
     "metadata": {},
     "output_type": "display_data"
    }
   ],
   "source": [
    "flats %>%\n",
    "  filter(Кімнат == 2) %>%\n",
    "  filter(Місто != \"Києво-Святошинський\") %>%\n",
    "  summarise(mean(Загальна_площа), sd(Загальна_площа))"
   ]
  },
  {
   "cell_type": "markdown",
   "id": "dea1399e-6b83-4ae9-b610-321ad65fed00",
   "metadata": {},
   "source": [
    "Можна перейментувати назви стовпців, наприклад mean=mean(Загальна_площа):"
   ]
  },
  {
   "cell_type": "code",
   "execution_count": 40,
   "id": "b18ec91f-29f5-467b-86dc-a0ee9a17e7eb",
   "metadata": {},
   "outputs": [
    {
     "data": {
      "text/html": [
       "<table class=\"dataframe\">\n",
       "<caption>A tibble: 12 × 3</caption>\n",
       "<thead>\n",
       "\t<tr><th scope=col>Місто</th><th scope=col>mean</th><th scope=col>sd</th></tr>\n",
       "\t<tr><th scope=col>&lt;chr&gt;</th><th scope=col>&lt;dbl&gt;</th><th scope=col>&lt;dbl&gt;</th></tr>\n",
       "</thead>\n",
       "<tbody>\n",
       "\t<tr><td>Івано-Франківськ</td><td>40.7</td><td> 4.989404</td></tr>\n",
       "\t<tr><td>Вінниця         </td><td>40.0</td><td> 7.665871</td></tr>\n",
       "\t<tr><td>Дніпропетровськ </td><td>32.0</td><td>       NA</td></tr>\n",
       "\t<tr><td>Запоріжжя       </td><td>36.4</td><td> 9.050967</td></tr>\n",
       "\t<tr><td>Київ            </td><td>39.0</td><td> 8.015938</td></tr>\n",
       "\t<tr><td>Львів           </td><td>43.0</td><td> 6.269465</td></tr>\n",
       "\t<tr><td>Миколаїв        </td><td>37.5</td><td> 6.363961</td></tr>\n",
       "\t<tr><td>Одеса           </td><td>39.0</td><td> 5.015531</td></tr>\n",
       "\t<tr><td>Рівне           </td><td>35.0</td><td>13.086362</td></tr>\n",
       "\t<tr><td>Тернопіль       </td><td>43.0</td><td> 8.079379</td></tr>\n",
       "\t<tr><td>Харків          </td><td>18.5</td><td>10.472185</td></tr>\n",
       "\t<tr><td>Хмельницький    </td><td>42.0</td><td> 6.669957</td></tr>\n",
       "</tbody>\n",
       "</table>\n"
      ],
      "text/latex": [
       "A tibble: 12 × 3\n",
       "\\begin{tabular}{lll}\n",
       " Місто & mean & sd\\\\\n",
       " <chr> & <dbl> & <dbl>\\\\\n",
       "\\hline\n",
       "\t Івано-Франківськ & 40.7 &  4.989404\\\\\n",
       "\t Вінниця          & 40.0 &  7.665871\\\\\n",
       "\t Дніпропетровськ  & 32.0 &        NA\\\\\n",
       "\t Запоріжжя        & 36.4 &  9.050967\\\\\n",
       "\t Київ             & 39.0 &  8.015938\\\\\n",
       "\t Львів            & 43.0 &  6.269465\\\\\n",
       "\t Миколаїв         & 37.5 &  6.363961\\\\\n",
       "\t Одеса            & 39.0 &  5.015531\\\\\n",
       "\t Рівне            & 35.0 & 13.086362\\\\\n",
       "\t Тернопіль        & 43.0 &  8.079379\\\\\n",
       "\t Харків           & 18.5 & 10.472185\\\\\n",
       "\t Хмельницький     & 42.0 &  6.669957\\\\\n",
       "\\end{tabular}\n"
      ],
      "text/markdown": [
       "\n",
       "A tibble: 12 × 3\n",
       "\n",
       "| Місто &lt;chr&gt; | mean &lt;dbl&gt; | sd &lt;dbl&gt; |\n",
       "|---|---|---|\n",
       "| Івано-Франківськ | 40.7 |  4.989404 |\n",
       "| Вінниця          | 40.0 |  7.665871 |\n",
       "| Дніпропетровськ  | 32.0 |        NA |\n",
       "| Запоріжжя        | 36.4 |  9.050967 |\n",
       "| Київ             | 39.0 |  8.015938 |\n",
       "| Львів            | 43.0 |  6.269465 |\n",
       "| Миколаїв         | 37.5 |  6.363961 |\n",
       "| Одеса            | 39.0 |  5.015531 |\n",
       "| Рівне            | 35.0 | 13.086362 |\n",
       "| Тернопіль        | 43.0 |  8.079379 |\n",
       "| Харків           | 18.5 | 10.472185 |\n",
       "| Хмельницький     | 42.0 |  6.669957 |\n",
       "\n"
      ],
      "text/plain": [
       "   Місто            mean sd       \n",
       "1  Івано-Франківськ 40.7  4.989404\n",
       "2  Вінниця          40.0  7.665871\n",
       "3  Дніпропетровськ  32.0        NA\n",
       "4  Запоріжжя        36.4  9.050967\n",
       "5  Київ             39.0  8.015938\n",
       "6  Львів            43.0  6.269465\n",
       "7  Миколаїв         37.5  6.363961\n",
       "8  Одеса            39.0  5.015531\n",
       "9  Рівне            35.0 13.086362\n",
       "10 Тернопіль        43.0  8.079379\n",
       "11 Харків           18.5 10.472185\n",
       "12 Хмельницький     42.0  6.669957"
      ]
     },
     "metadata": {},
     "output_type": "display_data"
    }
   ],
   "source": [
    "flats %>%\n",
    "  filter(Кімнат == 1) %>%\n",
    "  filter(Місто != \"Києво-Святошинський\") %>%\n",
    "  group_by(Місто) %>%\n",
    "  summarise(mean=median(Загальна_площа), sd=sd(Загальна_площа))"
   ]
  },
  {
   "cell_type": "code",
   "execution_count": 42,
   "id": "880ed7c2-e6b1-48f8-94aa-b51afc6e48b8",
   "metadata": {},
   "outputs": [
    {
     "data": {
      "image/png": "[encoded data removed]",
      "text/plain": [
       "plot without title"
      ]
     },
     "metadata": {
      "image/png": {
       "height": 420,
       "width": 420
      }
     },
     "output_type": "display_data"
    }
   ],
   "source": [
    "ggplot(flats, aes(x=Кімнат)) +\n",
    "  geom_bar(fill=\"red\",\n",
    "           col=\"gray\") +\n",
    "  ylab('Кількість')"
   ]
  },
  {
   "cell_type": "code",
   "execution_count": 43,
   "id": "f10771fb-dbba-4ed6-8e07-fdb0709df198",
   "metadata": {},
   "outputs": [
    {
     "data": {
      "image/png": "[encoded data removed]",
      "text/plain": [
       "plot without title"
      ]
     },
     "metadata": {
      "image/png": {
       "height": 420,
       "width": 420
      }
     },
     "output_type": "display_data"
    }
   ],
   "source": [
    "ggplot(flats, aes(x=Загальна_площа)) +\n",
    "  geom_bar(fill=\"lightblue\",\n",
    "           col=\"grey\") +\n",
    "  ylab('Кількість')"
   ]
  },
  {
   "cell_type": "code",
   "execution_count": null,
   "id": "9bd92ae8-9d59-48ff-9aa1-f79376f4f0b8",
   "metadata": {},
   "outputs": [],
   "source": [
    "ggplot(flats, aes(x=Загальна_площа)) +\n",
    "  geom_histogram(breaks=seq(0, 250, by = 50),\n",
    "                 fill=\"lightblue\",\n",
    "                 col=\"grey\") +\n",
    "  ylab('Кількість')"
   ]
  },
  {
   "cell_type": "code",
   "execution_count": null,
   "id": "30f5a6cf-52a3-4b77-a2d9-92c8c9ba964b",
   "metadata": {},
   "outputs": [],
   "source": [
    "ggplot(flats, aes(x=Загальна_площа, y=Ціна)) +\n",
    "  geom_point() "
   ]
  },
  {
   "cell_type": "code",
   "execution_count": 46,
   "id": "e44891b8-2e97-438d-a09b-6ecf7fb610d2",
   "metadata": {},
   "outputs": [
    {
     "data": {
      "image/png": "[encoded data removed]",
      "text/plain": [
       "plot without title"
      ]
     },
     "metadata": {
      "image/png": {
       "height": 420,
       "width": 420
      }
     },
     "output_type": "display_data"
    }
   ],
   "source": [
    "ggplot(flats, aes(x = Ціна, y = Місто)) +\n",
    "  geom_boxplot()"
   ]
  }
 ],
 "metadata": {
  "kernelspec": {
   "display_name": "R [conda env:rpython]",
   "language": "R",
   "name": "conda-env-rpython-r"
  },
  "language_info": {
   "codemirror_mode": "r",
   "file_extension": ".r",
   "mimetype": "text/x-r-source",
   "name": "R",
   "pygments_lexer": "r",
   "version": "4.3.1"
  }
 },
 "nbformat": 4,
 "nbformat_minor": 5
}
