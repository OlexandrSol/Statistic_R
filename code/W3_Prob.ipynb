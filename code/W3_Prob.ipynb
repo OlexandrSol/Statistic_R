{
 "cells": [
  {
   "cell_type": "markdown",
   "id": "4a214702-0743-440d-b926-acecdb6e18ae",
   "metadata": {},
   "source": [
    "Згідно опитування\n",
    "Gallup poll 2012 26.2% жителів США мають надмірну вагу. Яка\n",
    "ймовірність серед 20 випадковим чином обраних жителів\n",
    "отримати 5 з надлишковою вагою?"
   ]
  },
  {
   "cell_type": "code",
   "execution_count": 4,
   "id": "3a3b62f4-10e9-4905-a982-5ba14e59d7cf",
   "metadata": {},
   "outputs": [
    {
     "data": {
      "text/html": [
       "15504"
      ],
      "text/latex": [
       "15504"
      ],
      "text/markdown": [
       "15504"
      ],
      "text/plain": [
       "[1] 15504"
      ]
     },
     "metadata": {},
     "output_type": "display_data"
    }
   ],
   "source": [
    "# Знайдемо кількість можливих варіантів\n",
    "choose(n=20, k=5)"
   ]
  },
  {
   "cell_type": "code",
   "execution_count": 6,
   "id": "11c69725-2e0c-4416-a512-cb69038560eb",
   "metadata": {},
   "outputs": [
    {
     "data": {
      "text/html": [
       "0.200814766062653"
      ],
      "text/latex": [
       "0.200814766062653"
      ],
      "text/markdown": [
       "0.200814766062653"
      ],
      "text/plain": [
       "[1] 0.2008148"
      ]
     },
     "metadata": {},
     "output_type": "display_data"
    }
   ],
   "source": [
    "# Ймовірність обрати серед 20 жителів 5 з надлишковою вагою\n",
    "dbinom(x=5, size=20, prob=0.262)"
   ]
  },
  {
   "cell_type": "code",
   "execution_count": null,
   "id": "311c1df1-b8a5-4403-9bf0-e863613687ac",
   "metadata": {},
   "outputs": [],
   "source": []
  }
 ],
 "metadata": {
  "kernelspec": {
   "display_name": "R [conda env:rpython]",
   "language": "R",
   "name": "conda-env-rpython-r"
  },
  "language_info": {
   "codemirror_mode": "r",
   "file_extension": ".r",
   "mimetype": "text/x-r-source",
   "name": "R",
   "pygments_lexer": "r",
   "version": "4.3.1"
  }
 },
 "nbformat": 4,
 "nbformat_minor": 5
}
