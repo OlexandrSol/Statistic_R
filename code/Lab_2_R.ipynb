{
 "cells": [
  {
   "cell_type": "code",
   "execution_count": 1,
   "id": "e571700d-ca69-44d8-8e4b-a4e772feed9e",
   "metadata": {},
   "outputs": [
    {
     "name": "stderr",
     "output_type": "stream",
     "text": [
      "\n",
      "Attaching package: ‘dplyr’\n",
      "\n",
      "\n",
      "The following objects are masked from ‘package:stats’:\n",
      "\n",
      "    filter, lag\n",
      "\n",
      "\n",
      "The following objects are masked from ‘package:base’:\n",
      "\n",
      "    intersect, setdiff, setequal, union\n",
      "\n",
      "\n"
     ]
    }
   ],
   "source": [
    "library(dplyr)\n",
    "library(ggplot2)"
   ]
  },
  {
   "cell_type": "markdown",
   "id": "a940ea8d-8cf4-42ac-aecc-54249c7d9ac8",
   "metadata": {},
   "source": [
    "Як відомо, мистецтво це відображення реального світу. Побутує\n",
    "думка, що наш світ стає все жорстокішим. Поглянемо на цю\n",
    "проблему через призму сучасного кінематографу. В якості\n",
    "критерію жорсткості фільму будемо використовувати кількість\n",
    "персонажів, яких в ньому вбито."
   ]
  },
  {
   "cell_type": "code",
   "execution_count": 3,
   "id": "477a52c5-f482-418c-8240-37dacffb60b6",
   "metadata": {},
   "outputs": [],
   "source": [
    "setwd(\"/home/olexandr/Documents/GitHub/Statistics_R/data_source\")"
   ]
  },
  {
   "cell_type": "code",
   "execution_count": 5,
   "id": "a206475e-fd94-4324-86ce-8637dc09eaad",
   "metadata": {},
   "outputs": [],
   "source": [
    "movie_body_counts <- read.csv('filmdeathcounts.csv')"
   ]
  },
  {
   "cell_type": "code",
   "execution_count": 7,
   "id": "1dee4b9e-278c-4b0e-98c5-271fa8474048",
   "metadata": {},
   "outputs": [
    {
     "data": {
      "text/html": [
       "<table class=\"dataframe\">\n",
       "<caption>A data.frame: 6 × 8</caption>\n",
       "<thead>\n",
       "\t<tr><th></th><th scope=col>Film</th><th scope=col>Year</th><th scope=col>Body_Count</th><th scope=col>MPAA_Rating</th><th scope=col>Genre</th><th scope=col>Director</th><th scope=col>Length_Minutes</th><th scope=col>IMDB_Rating</th></tr>\n",
       "\t<tr><th></th><th scope=col>&lt;chr&gt;</th><th scope=col>&lt;int&gt;</th><th scope=col>&lt;int&gt;</th><th scope=col>&lt;chr&gt;</th><th scope=col>&lt;chr&gt;</th><th scope=col>&lt;chr&gt;</th><th scope=col>&lt;int&gt;</th><th scope=col>&lt;dbl&gt;</th></tr>\n",
       "</thead>\n",
       "<tbody>\n",
       "\t<tr><th scope=row>1</th><td>24 Hour Party People</td><td>2002</td><td>  7</td><td>R</td><td>Biography|Comedy|Drama|Music </td><td>Michael Winterbottom   </td><td>117</td><td>7.3</td></tr>\n",
       "\t<tr><th scope=row>2</th><td>28 Days Later       </td><td>2002</td><td> 53</td><td>R</td><td>Horror|Sci-Fi|Thriller       </td><td>Danny Boyle            </td><td>113</td><td>7.6</td></tr>\n",
       "\t<tr><th scope=row>3</th><td>28 Weeks Later      </td><td>2007</td><td>212</td><td>R</td><td>Horror|Sci-Fi|Thriller       </td><td>Juan Carlos Fresnadillo</td><td>100</td><td>7.0</td></tr>\n",
       "\t<tr><th scope=row>4</th><td>30 Days of Night    </td><td>2007</td><td> 67</td><td>R</td><td>Horror|Thriller              </td><td>David Slade            </td><td>113</td><td>6.6</td></tr>\n",
       "\t<tr><th scope=row>5</th><td>300                 </td><td>2007</td><td>600</td><td>R</td><td>Action|Fantasy|History|War   </td><td>Zack Snyder            </td><td>117</td><td>7.7</td></tr>\n",
       "\t<tr><th scope=row>6</th><td>3:10 To Yuma        </td><td>2007</td><td> 45</td><td>R</td><td>Adventure|Crime|Drama|Western</td><td>James Mangold          </td><td>122</td><td>7.8</td></tr>\n",
       "</tbody>\n",
       "</table>\n"
      ],
      "text/latex": [
       "A data.frame: 6 × 8\n",
       "\\begin{tabular}{r|llllllll}\n",
       "  & Film & Year & Body\\_Count & MPAA\\_Rating & Genre & Director & Length\\_Minutes & IMDB\\_Rating\\\\\n",
       "  & <chr> & <int> & <int> & <chr> & <chr> & <chr> & <int> & <dbl>\\\\\n",
       "\\hline\n",
       "\t1 & 24 Hour Party People & 2002 &   7 & R & Biography\\textbar{}Comedy\\textbar{}Drama\\textbar{}Music  & Michael Winterbottom    & 117 & 7.3\\\\\n",
       "\t2 & 28 Days Later        & 2002 &  53 & R & Horror\\textbar{}Sci-Fi\\textbar{}Thriller        & Danny Boyle             & 113 & 7.6\\\\\n",
       "\t3 & 28 Weeks Later       & 2007 & 212 & R & Horror\\textbar{}Sci-Fi\\textbar{}Thriller        & Juan Carlos Fresnadillo & 100 & 7.0\\\\\n",
       "\t4 & 30 Days of Night     & 2007 &  67 & R & Horror\\textbar{}Thriller               & David Slade             & 113 & 6.6\\\\\n",
       "\t5 & 300                  & 2007 & 600 & R & Action\\textbar{}Fantasy\\textbar{}History\\textbar{}War    & Zack Snyder             & 117 & 7.7\\\\\n",
       "\t6 & 3:10 To Yuma         & 2007 &  45 & R & Adventure\\textbar{}Crime\\textbar{}Drama\\textbar{}Western & James Mangold           & 122 & 7.8\\\\\n",
       "\\end{tabular}\n"
      ],
      "text/markdown": [
       "\n",
       "A data.frame: 6 × 8\n",
       "\n",
       "| <!--/--> | Film &lt;chr&gt; | Year &lt;int&gt; | Body_Count &lt;int&gt; | MPAA_Rating &lt;chr&gt; | Genre &lt;chr&gt; | Director &lt;chr&gt; | Length_Minutes &lt;int&gt; | IMDB_Rating &lt;dbl&gt; |\n",
       "|---|---|---|---|---|---|---|---|---|\n",
       "| 1 | 24 Hour Party People | 2002 |   7 | R | Biography|Comedy|Drama|Music  | Michael Winterbottom    | 117 | 7.3 |\n",
       "| 2 | 28 Days Later        | 2002 |  53 | R | Horror|Sci-Fi|Thriller        | Danny Boyle             | 113 | 7.6 |\n",
       "| 3 | 28 Weeks Later       | 2007 | 212 | R | Horror|Sci-Fi|Thriller        | Juan Carlos Fresnadillo | 100 | 7.0 |\n",
       "| 4 | 30 Days of Night     | 2007 |  67 | R | Horror|Thriller               | David Slade             | 113 | 6.6 |\n",
       "| 5 | 300                  | 2007 | 600 | R | Action|Fantasy|History|War    | Zack Snyder             | 117 | 7.7 |\n",
       "| 6 | 3:10 To Yuma         | 2007 |  45 | R | Adventure|Crime|Drama|Western | James Mangold           | 122 | 7.8 |\n",
       "\n"
      ],
      "text/plain": [
       "  Film                 Year Body_Count MPAA_Rating\n",
       "1 24 Hour Party People 2002   7        R          \n",
       "2 28 Days Later        2002  53        R          \n",
       "3 28 Weeks Later       2007 212        R          \n",
       "4 30 Days of Night     2007  67        R          \n",
       "5 300                  2007 600        R          \n",
       "6 3:10 To Yuma         2007  45        R          \n",
       "  Genre                         Director                Length_Minutes\n",
       "1 Biography|Comedy|Drama|Music  Michael Winterbottom    117           \n",
       "2 Horror|Sci-Fi|Thriller        Danny Boyle             113           \n",
       "3 Horror|Sci-Fi|Thriller        Juan Carlos Fresnadillo 100           \n",
       "4 Horror|Thriller               David Slade             113           \n",
       "5 Action|Fantasy|History|War    Zack Snyder             117           \n",
       "6 Adventure|Crime|Drama|Western James Mangold           122           \n",
       "  IMDB_Rating\n",
       "1 7.3        \n",
       "2 7.6        \n",
       "3 7.0        \n",
       "4 6.6        \n",
       "5 7.7        \n",
       "6 7.8        "
      ]
     },
     "metadata": {},
     "output_type": "display_data"
    }
   ],
   "source": [
    "head(movie_body_counts) # Перевіримо як зчитався файл"
   ]
  },
  {
   "cell_type": "code",
   "execution_count": 9,
   "id": "ee7ec0f2-866a-49db-a3f3-afdbd3e47d93",
   "metadata": {},
   "outputs": [
    {
     "name": "stdout",
     "output_type": "stream",
     "text": [
      "'data.frame':\t545 obs. of  8 variables:\n",
      " $ Film          : chr  \"24 Hour Party People\" \"28 Days Later\" \"28 Weeks Later\" \"30 Days of Night\" ...\n",
      " $ Year          : int  2002 2002 2007 2007 2007 2007 1999 1986 1987 1977 ...\n",
      " $ Body_Count    : int  7 53 212 67 600 45 1 65 199 243 ...\n",
      " $ MPAA_Rating   : chr  \"R\" \"R\" \"R\" \"R\" ...\n",
      " $ Genre         : chr  \"Biography|Comedy|Drama|Music\" \"Horror|Sci-Fi|Thriller\" \"Horror|Sci-Fi|Thriller\" \"Horror|Thriller\" ...\n",
      " $ Director      : chr  \"Michael Winterbottom\" \"Danny Boyle\" \"Juan Carlos Fresnadillo\" \"David Slade\" ...\n",
      " $ Length_Minutes: int  117 113 100 113 117 122 123 95 105 175 ...\n",
      " $ IMDB_Rating   : num  7.3 7.6 7 6.6 7.7 7.8 6.4 7.5 7.3 7.4 ...\n"
     ]
    }
   ],
   "source": [
    "str(movie_body_counts) #Переглянемо структуру даних"
   ]
  },
  {
   "cell_type": "markdown",
   "id": "7854899d-c42d-4dc2-bffa-29cbf7774931",
   "metadata": {},
   "source": [
    "Додамо нове поле body_per_min, яке містить відношення всіх\n",
    "вбитих у фільмі до довжини фільму в хвилинах:"
   ]
  },
  {
   "cell_type": "code",
   "execution_count": 12,
   "id": "1e8fddac-566c-497f-a14b-90c9abd91f4f",
   "metadata": {},
   "outputs": [],
   "source": [
    "# Додамо нове поле body_per_min, яке містить відношення всіх вбитих у фільмі до довжини фільму в хвилинах:\n",
    "movie_body_counts$body_per_min <- movie_body_counts$Body_Count/movie_body_counts$Length_Minutes"
   ]
  },
  {
   "cell_type": "code",
   "execution_count": 14,
   "id": "9c27a79c-00e7-47c0-8933-f26ae065fab7",
   "metadata": {},
   "outputs": [
    {
     "data": {
      "image/png": "[encoded data removed]",
      "text/plain": [
       "plot without title"
      ]
     },
     "metadata": {
      "image/png": {
       "height": 420,
       "width": 420
      }
     },
     "output_type": "display_data"
    }
   ],
   "source": [
    "# Побудуємо гістограму для кількості персонажів, які загинули:\n",
    "ggplot(movie_body_counts, aes(x=Body_Count)) +\n",
    " geom_histogram(bins=20, color=\"grey\", fill=\"lightblue\") "
   ]
  },
  {
   "cell_type": "code",
   "execution_count": 16,
   "id": "1a6520e7-50a0-4a4a-9bac-19d147ea3aa7",
   "metadata": {},
   "outputs": [
    {
     "data": {
      "text/html": [
       "<table class=\"dataframe\">\n",
       "<caption>A data.frame: 10 × 9</caption>\n",
       "<thead>\n",
       "\t<tr><th scope=col>Film</th><th scope=col>Year</th><th scope=col>Body_Count</th><th scope=col>MPAA_Rating</th><th scope=col>Genre</th><th scope=col>Director</th><th scope=col>Length_Minutes</th><th scope=col>IMDB_Rating</th><th scope=col>body_per_min</th></tr>\n",
       "\t<tr><th scope=col>&lt;chr&gt;</th><th scope=col>&lt;int&gt;</th><th scope=col>&lt;int&gt;</th><th scope=col>&lt;chr&gt;</th><th scope=col>&lt;chr&gt;</th><th scope=col>&lt;chr&gt;</th><th scope=col>&lt;int&gt;</th><th scope=col>&lt;dbl&gt;</th><th scope=col>&lt;dbl&gt;</th></tr>\n",
       "</thead>\n",
       "<tbody>\n",
       "\t<tr><td>Lord of the Rings: Return of the King</td><td>2003</td><td>836</td><td>PG-13</td><td>Action|Adventure|Fantasy          </td><td>Peter Jackson    </td><td>201</td><td>8.9</td><td>4.159204</td></tr>\n",
       "\t<tr><td>Kingdom of Heaven                    </td><td>2005</td><td>610</td><td>R    </td><td>Action|Adventure|Drama|History|War</td><td>Ridley Scott     </td><td>144</td><td>7.1</td><td>4.236111</td></tr>\n",
       "\t<tr><td>300                                  </td><td>2007</td><td>600</td><td>R    </td><td>Action|Fantasy|History|War        </td><td>Zack Snyder      </td><td>117</td><td>7.7</td><td>5.128205</td></tr>\n",
       "\t<tr><td>Tae Guk Gi: The Brotherhood of War   </td><td>2004</td><td>590</td><td>R    </td><td>Action|Drama|War                  </td><td>Je-kyu Kang      </td><td>140</td><td>8.1</td><td>4.214286</td></tr>\n",
       "\t<tr><td>Troy                                 </td><td>2004</td><td>572</td><td>R    </td><td>Adventure|Drama                   </td><td>Wolfgang Petersen</td><td>163</td><td>7.1</td><td>3.509202</td></tr>\n",
       "\t<tr><td>The Last Samurai                     </td><td>2003</td><td>558</td><td>R    </td><td>Action|Drama|History|War          </td><td>Edward Zwick     </td><td>154</td><td>7.7</td><td>3.623377</td></tr>\n",
       "\t<tr><td>A Fistful of Dynamite                </td><td>1971</td><td>471</td><td>PG   </td><td>Adventure|Western                 </td><td>Sergio Leone     </td><td>138</td><td>7.7</td><td>3.413043</td></tr>\n",
       "\t<tr><td>Lord of the Rings: Two Towers        </td><td>2002</td><td>468</td><td>PG-13</td><td>Action|Adventure|Fantasy          </td><td>Peter Jackson    </td><td>179</td><td>8.7</td><td>2.614525</td></tr>\n",
       "\t<tr><td>Windtalkers                          </td><td>2002</td><td>389</td><td>R    </td><td>Action|Drama|War                  </td><td>John Woo         </td><td>134</td><td>5.9</td><td>2.902985</td></tr>\n",
       "\t<tr><td>King Arthur                          </td><td>2004</td><td>378</td><td>R    </td><td>Action|Adventure|Drama            </td><td>Antoine Fuqua    </td><td>126</td><td>6.2</td><td>3.000000</td></tr>\n",
       "</tbody>\n",
       "</table>\n"
      ],
      "text/latex": [
       "A data.frame: 10 × 9\n",
       "\\begin{tabular}{lllllllll}\n",
       " Film & Year & Body\\_Count & MPAA\\_Rating & Genre & Director & Length\\_Minutes & IMDB\\_Rating & body\\_per\\_min\\\\\n",
       " <chr> & <int> & <int> & <chr> & <chr> & <chr> & <int> & <dbl> & <dbl>\\\\\n",
       "\\hline\n",
       "\t Lord of the Rings: Return of the King & 2003 & 836 & PG-13 & Action\\textbar{}Adventure\\textbar{}Fantasy           & Peter Jackson     & 201 & 8.9 & 4.159204\\\\\n",
       "\t Kingdom of Heaven                     & 2005 & 610 & R     & Action\\textbar{}Adventure\\textbar{}Drama\\textbar{}History\\textbar{}War & Ridley Scott      & 144 & 7.1 & 4.236111\\\\\n",
       "\t 300                                   & 2007 & 600 & R     & Action\\textbar{}Fantasy\\textbar{}History\\textbar{}War         & Zack Snyder       & 117 & 7.7 & 5.128205\\\\\n",
       "\t Tae Guk Gi: The Brotherhood of War    & 2004 & 590 & R     & Action\\textbar{}Drama\\textbar{}War                   & Je-kyu Kang       & 140 & 8.1 & 4.214286\\\\\n",
       "\t Troy                                  & 2004 & 572 & R     & Adventure\\textbar{}Drama                    & Wolfgang Petersen & 163 & 7.1 & 3.509202\\\\\n",
       "\t The Last Samurai                      & 2003 & 558 & R     & Action\\textbar{}Drama\\textbar{}History\\textbar{}War           & Edward Zwick      & 154 & 7.7 & 3.623377\\\\\n",
       "\t A Fistful of Dynamite                 & 1971 & 471 & PG    & Adventure\\textbar{}Western                  & Sergio Leone      & 138 & 7.7 & 3.413043\\\\\n",
       "\t Lord of the Rings: Two Towers         & 2002 & 468 & PG-13 & Action\\textbar{}Adventure\\textbar{}Fantasy           & Peter Jackson     & 179 & 8.7 & 2.614525\\\\\n",
       "\t Windtalkers                           & 2002 & 389 & R     & Action\\textbar{}Drama\\textbar{}War                   & John Woo          & 134 & 5.9 & 2.902985\\\\\n",
       "\t King Arthur                           & 2004 & 378 & R     & Action\\textbar{}Adventure\\textbar{}Drama             & Antoine Fuqua     & 126 & 6.2 & 3.000000\\\\\n",
       "\\end{tabular}\n"
      ],
      "text/markdown": [
       "\n",
       "A data.frame: 10 × 9\n",
       "\n",
       "| Film &lt;chr&gt; | Year &lt;int&gt; | Body_Count &lt;int&gt; | MPAA_Rating &lt;chr&gt; | Genre &lt;chr&gt; | Director &lt;chr&gt; | Length_Minutes &lt;int&gt; | IMDB_Rating &lt;dbl&gt; | body_per_min &lt;dbl&gt; |\n",
       "|---|---|---|---|---|---|---|---|---|\n",
       "| Lord of the Rings: Return of the King | 2003 | 836 | PG-13 | Action|Adventure|Fantasy           | Peter Jackson     | 201 | 8.9 | 4.159204 |\n",
       "| Kingdom of Heaven                     | 2005 | 610 | R     | Action|Adventure|Drama|History|War | Ridley Scott      | 144 | 7.1 | 4.236111 |\n",
       "| 300                                   | 2007 | 600 | R     | Action|Fantasy|History|War         | Zack Snyder       | 117 | 7.7 | 5.128205 |\n",
       "| Tae Guk Gi: The Brotherhood of War    | 2004 | 590 | R     | Action|Drama|War                   | Je-kyu Kang       | 140 | 8.1 | 4.214286 |\n",
       "| Troy                                  | 2004 | 572 | R     | Adventure|Drama                    | Wolfgang Petersen | 163 | 7.1 | 3.509202 |\n",
       "| The Last Samurai                      | 2003 | 558 | R     | Action|Drama|History|War           | Edward Zwick      | 154 | 7.7 | 3.623377 |\n",
       "| A Fistful of Dynamite                 | 1971 | 471 | PG    | Adventure|Western                  | Sergio Leone      | 138 | 7.7 | 3.413043 |\n",
       "| Lord of the Rings: Two Towers         | 2002 | 468 | PG-13 | Action|Adventure|Fantasy           | Peter Jackson     | 179 | 8.7 | 2.614525 |\n",
       "| Windtalkers                           | 2002 | 389 | R     | Action|Drama|War                   | John Woo          | 134 | 5.9 | 2.902985 |\n",
       "| King Arthur                           | 2004 | 378 | R     | Action|Adventure|Drama             | Antoine Fuqua     | 126 | 6.2 | 3.000000 |\n",
       "\n"
      ],
      "text/plain": [
       "   Film                                  Year Body_Count MPAA_Rating\n",
       "1  Lord of the Rings: Return of the King 2003 836        PG-13      \n",
       "2  Kingdom of Heaven                     2005 610        R          \n",
       "3  300                                   2007 600        R          \n",
       "4  Tae Guk Gi: The Brotherhood of War    2004 590        R          \n",
       "5  Troy                                  2004 572        R          \n",
       "6  The Last Samurai                      2003 558        R          \n",
       "7  A Fistful of Dynamite                 1971 471        PG         \n",
       "8  Lord of the Rings: Two Towers         2002 468        PG-13      \n",
       "9  Windtalkers                           2002 389        R          \n",
       "10 King Arthur                           2004 378        R          \n",
       "   Genre                              Director          Length_Minutes\n",
       "1  Action|Adventure|Fantasy           Peter Jackson     201           \n",
       "2  Action|Adventure|Drama|History|War Ridley Scott      144           \n",
       "3  Action|Fantasy|History|War         Zack Snyder       117           \n",
       "4  Action|Drama|War                   Je-kyu Kang       140           \n",
       "5  Adventure|Drama                    Wolfgang Petersen 163           \n",
       "6  Action|Drama|History|War           Edward Zwick      154           \n",
       "7  Adventure|Western                  Sergio Leone      138           \n",
       "8  Action|Adventure|Fantasy           Peter Jackson     179           \n",
       "9  Action|Drama|War                   John Woo          134           \n",
       "10 Action|Adventure|Drama             Antoine Fuqua     126           \n",
       "   IMDB_Rating body_per_min\n",
       "1  8.9         4.159204    \n",
       "2  7.1         4.236111    \n",
       "3  7.7         5.128205    \n",
       "4  8.1         4.214286    \n",
       "5  7.1         3.509202    \n",
       "6  7.7         3.623377    \n",
       "7  7.7         3.413043    \n",
       "8  8.7         2.614525    \n",
       "9  5.9         2.902985    \n",
       "10 6.2         3.000000    "
      ]
     },
     "metadata": {},
     "output_type": "display_data"
    }
   ],
   "source": [
    "#Знайдемо топ 10 фільмів, де загинуло найбільше персонажів:\n",
    "movie_body_counts %>%\n",
    " top_n(n = 10, Body_Count) %>%\n",
    " arrange(desc(Body_Count))"
   ]
  },
  {
   "cell_type": "code",
   "execution_count": 18,
   "id": "873f0463-80ad-4fa6-82c5-424b781ced0e",
   "metadata": {},
   "outputs": [
    {
     "data": {
      "text/html": [
       "<table class=\"dataframe\">\n",
       "<caption>A data.frame: 10 × 9</caption>\n",
       "<thead>\n",
       "\t<tr><th scope=col>Film</th><th scope=col>Year</th><th scope=col>Body_Count</th><th scope=col>MPAA_Rating</th><th scope=col>Genre</th><th scope=col>Director</th><th scope=col>Length_Minutes</th><th scope=col>IMDB_Rating</th><th scope=col>body_per_min</th></tr>\n",
       "\t<tr><th scope=col>&lt;chr&gt;</th><th scope=col>&lt;int&gt;</th><th scope=col>&lt;int&gt;</th><th scope=col>&lt;chr&gt;</th><th scope=col>&lt;chr&gt;</th><th scope=col>&lt;chr&gt;</th><th scope=col>&lt;int&gt;</th><th scope=col>&lt;dbl&gt;</th><th scope=col>&lt;dbl&gt;</th></tr>\n",
       "</thead>\n",
       "<tbody>\n",
       "\t<tr><td>300                                  </td><td>2007</td><td>600</td><td>R    </td><td>Action|Fantasy|History|War        </td><td>Zack Snyder      </td><td>117</td><td>7.7</td><td>5.128205</td></tr>\n",
       "\t<tr><td>Kingdom of Heaven                    </td><td>2005</td><td>610</td><td>R    </td><td>Action|Adventure|Drama|History|War</td><td>Ridley Scott     </td><td>144</td><td>7.1</td><td>4.236111</td></tr>\n",
       "\t<tr><td>Tae Guk Gi: The Brotherhood of War   </td><td>2004</td><td>590</td><td>R    </td><td>Action|Drama|War                  </td><td>Je-kyu Kang      </td><td>140</td><td>8.1</td><td>4.214286</td></tr>\n",
       "\t<tr><td>Lord of the Rings: Return of the King</td><td>2003</td><td>836</td><td>PG-13</td><td>Action|Adventure|Fantasy          </td><td>Peter Jackson    </td><td>201</td><td>8.9</td><td>4.159204</td></tr>\n",
       "\t<tr><td>The Last Samurai                     </td><td>2003</td><td>558</td><td>R    </td><td>Action|Drama|History|War          </td><td>Edward Zwick     </td><td>154</td><td>7.7</td><td>3.623377</td></tr>\n",
       "\t<tr><td>Troy                                 </td><td>2004</td><td>572</td><td>R    </td><td>Adventure|Drama                   </td><td>Wolfgang Petersen</td><td>163</td><td>7.1</td><td>3.509202</td></tr>\n",
       "\t<tr><td>A Fistful of Dynamite                </td><td>1971</td><td>471</td><td>PG   </td><td>Adventure|Western                 </td><td>Sergio Leone     </td><td>138</td><td>7.7</td><td>3.413043</td></tr>\n",
       "\t<tr><td>King Arthur                          </td><td>2004</td><td>378</td><td>R    </td><td>Action|Adventure|Drama            </td><td>Antoine Fuqua    </td><td>126</td><td>6.2</td><td>3.000000</td></tr>\n",
       "\t<tr><td>The Big Red One                      </td><td>1980</td><td>338</td><td>R    </td><td>Action|Drama|War                  </td><td>Samuel Fuller    </td><td>113</td><td>7.3</td><td>2.991150</td></tr>\n",
       "\t<tr><td>Windtalkers                          </td><td>2002</td><td>389</td><td>R    </td><td>Action|Drama|War                  </td><td>John Woo         </td><td>134</td><td>5.9</td><td>2.902985</td></tr>\n",
       "</tbody>\n",
       "</table>\n"
      ],
      "text/latex": [
       "A data.frame: 10 × 9\n",
       "\\begin{tabular}{lllllllll}\n",
       " Film & Year & Body\\_Count & MPAA\\_Rating & Genre & Director & Length\\_Minutes & IMDB\\_Rating & body\\_per\\_min\\\\\n",
       " <chr> & <int> & <int> & <chr> & <chr> & <chr> & <int> & <dbl> & <dbl>\\\\\n",
       "\\hline\n",
       "\t 300                                   & 2007 & 600 & R     & Action\\textbar{}Fantasy\\textbar{}History\\textbar{}War         & Zack Snyder       & 117 & 7.7 & 5.128205\\\\\n",
       "\t Kingdom of Heaven                     & 2005 & 610 & R     & Action\\textbar{}Adventure\\textbar{}Drama\\textbar{}History\\textbar{}War & Ridley Scott      & 144 & 7.1 & 4.236111\\\\\n",
       "\t Tae Guk Gi: The Brotherhood of War    & 2004 & 590 & R     & Action\\textbar{}Drama\\textbar{}War                   & Je-kyu Kang       & 140 & 8.1 & 4.214286\\\\\n",
       "\t Lord of the Rings: Return of the King & 2003 & 836 & PG-13 & Action\\textbar{}Adventure\\textbar{}Fantasy           & Peter Jackson     & 201 & 8.9 & 4.159204\\\\\n",
       "\t The Last Samurai                      & 2003 & 558 & R     & Action\\textbar{}Drama\\textbar{}History\\textbar{}War           & Edward Zwick      & 154 & 7.7 & 3.623377\\\\\n",
       "\t Troy                                  & 2004 & 572 & R     & Adventure\\textbar{}Drama                    & Wolfgang Petersen & 163 & 7.1 & 3.509202\\\\\n",
       "\t A Fistful of Dynamite                 & 1971 & 471 & PG    & Adventure\\textbar{}Western                  & Sergio Leone      & 138 & 7.7 & 3.413043\\\\\n",
       "\t King Arthur                           & 2004 & 378 & R     & Action\\textbar{}Adventure\\textbar{}Drama             & Antoine Fuqua     & 126 & 6.2 & 3.000000\\\\\n",
       "\t The Big Red One                       & 1980 & 338 & R     & Action\\textbar{}Drama\\textbar{}War                   & Samuel Fuller     & 113 & 7.3 & 2.991150\\\\\n",
       "\t Windtalkers                           & 2002 & 389 & R     & Action\\textbar{}Drama\\textbar{}War                   & John Woo          & 134 & 5.9 & 2.902985\\\\\n",
       "\\end{tabular}\n"
      ],
      "text/markdown": [
       "\n",
       "A data.frame: 10 × 9\n",
       "\n",
       "| Film &lt;chr&gt; | Year &lt;int&gt; | Body_Count &lt;int&gt; | MPAA_Rating &lt;chr&gt; | Genre &lt;chr&gt; | Director &lt;chr&gt; | Length_Minutes &lt;int&gt; | IMDB_Rating &lt;dbl&gt; | body_per_min &lt;dbl&gt; |\n",
       "|---|---|---|---|---|---|---|---|---|\n",
       "| 300                                   | 2007 | 600 | R     | Action|Fantasy|History|War         | Zack Snyder       | 117 | 7.7 | 5.128205 |\n",
       "| Kingdom of Heaven                     | 2005 | 610 | R     | Action|Adventure|Drama|History|War | Ridley Scott      | 144 | 7.1 | 4.236111 |\n",
       "| Tae Guk Gi: The Brotherhood of War    | 2004 | 590 | R     | Action|Drama|War                   | Je-kyu Kang       | 140 | 8.1 | 4.214286 |\n",
       "| Lord of the Rings: Return of the King | 2003 | 836 | PG-13 | Action|Adventure|Fantasy           | Peter Jackson     | 201 | 8.9 | 4.159204 |\n",
       "| The Last Samurai                      | 2003 | 558 | R     | Action|Drama|History|War           | Edward Zwick      | 154 | 7.7 | 3.623377 |\n",
       "| Troy                                  | 2004 | 572 | R     | Adventure|Drama                    | Wolfgang Petersen | 163 | 7.1 | 3.509202 |\n",
       "| A Fistful of Dynamite                 | 1971 | 471 | PG    | Adventure|Western                  | Sergio Leone      | 138 | 7.7 | 3.413043 |\n",
       "| King Arthur                           | 2004 | 378 | R     | Action|Adventure|Drama             | Antoine Fuqua     | 126 | 6.2 | 3.000000 |\n",
       "| The Big Red One                       | 1980 | 338 | R     | Action|Drama|War                   | Samuel Fuller     | 113 | 7.3 | 2.991150 |\n",
       "| Windtalkers                           | 2002 | 389 | R     | Action|Drama|War                   | John Woo          | 134 | 5.9 | 2.902985 |\n",
       "\n"
      ],
      "text/plain": [
       "   Film                                  Year Body_Count MPAA_Rating\n",
       "1  300                                   2007 600        R          \n",
       "2  Kingdom of Heaven                     2005 610        R          \n",
       "3  Tae Guk Gi: The Brotherhood of War    2004 590        R          \n",
       "4  Lord of the Rings: Return of the King 2003 836        PG-13      \n",
       "5  The Last Samurai                      2003 558        R          \n",
       "6  Troy                                  2004 572        R          \n",
       "7  A Fistful of Dynamite                 1971 471        PG         \n",
       "8  King Arthur                           2004 378        R          \n",
       "9  The Big Red One                       1980 338        R          \n",
       "10 Windtalkers                           2002 389        R          \n",
       "   Genre                              Director          Length_Minutes\n",
       "1  Action|Fantasy|History|War         Zack Snyder       117           \n",
       "2  Action|Adventure|Drama|History|War Ridley Scott      144           \n",
       "3  Action|Drama|War                   Je-kyu Kang       140           \n",
       "4  Action|Adventure|Fantasy           Peter Jackson     201           \n",
       "5  Action|Drama|History|War           Edward Zwick      154           \n",
       "6  Adventure|Drama                    Wolfgang Petersen 163           \n",
       "7  Adventure|Western                  Sergio Leone      138           \n",
       "8  Action|Adventure|Drama             Antoine Fuqua     126           \n",
       "9  Action|Drama|War                   Samuel Fuller     113           \n",
       "10 Action|Drama|War                   John Woo          134           \n",
       "   IMDB_Rating body_per_min\n",
       "1  7.7         5.128205    \n",
       "2  7.1         4.236111    \n",
       "3  8.1         4.214286    \n",
       "4  8.9         4.159204    \n",
       "5  7.7         3.623377    \n",
       "6  7.1         3.509202    \n",
       "7  7.7         3.413043    \n",
       "8  6.2         3.000000    \n",
       "9  7.3         2.991150    \n",
       "10 5.9         2.902985    "
      ]
     },
     "metadata": {},
     "output_type": "display_data"
    }
   ],
   "source": [
    "#Та фільми, де загинуло найбільше кількість персонажів по відношенню до довжини фільму:\n",
    "movie_body_counts %>%\n",
    " top_n(n = 10, body_per_min) %>%\n",
    " arrange(desc(body_per_min))"
   ]
  },
  {
   "cell_type": "code",
   "execution_count": 20,
   "id": "b8f366fb-a8e0-4317-b19f-a194ad73c506",
   "metadata": {},
   "outputs": [
    {
     "data": {
      "image/png": "[encoded data removed]",
      "text/plain": [
       "plot without title"
      ]
     },
     "metadata": {
      "image/png": {
       "height": 420,
       "width": 420
      }
     },
     "output_type": "display_data"
    }
   ],
   "source": [
    "#Побудуємо гістограму для IMDB рейтингу:\n",
    "ggplot(movie_body_counts, aes(x=IMDB_Rating)) +\n",
    " geom_histogram(bins=10, color=\"grey\", fill=\"lightblue\")"
   ]
  },
  {
   "cell_type": "markdown",
   "id": "0e586560-76fa-42e0-b624-4e9e98f32750",
   "metadata": {},
   "source": [
    "Знайдемо середнє значення та середньоквадратичне відхилення\n",
    "для змінної IMDBrating, змінним дамо назви imdb_mean та\n",
    "imdb_sd:"
   ]
  },
  {
   "cell_type": "code",
   "execution_count": 25,
   "id": "bcbaf04f-0545-426c-abe8-8f5632864e18",
   "metadata": {},
   "outputs": [],
   "source": [
    "imdb_mean <- mean(movie_body_counts$IMDB_Rating)"
   ]
  },
  {
   "cell_type": "code",
   "execution_count": 27,
   "id": "d5142302-b352-46e2-9421-4903a7008276",
   "metadata": {},
   "outputs": [
    {
     "data": {
      "text/html": [
       "6.83596330275229"
      ],
      "text/latex": [
       "6.83596330275229"
      ],
      "text/markdown": [
       "6.83596330275229"
      ],
      "text/plain": [
       "[1] 6.835963"
      ]
     },
     "metadata": {},
     "output_type": "display_data"
    }
   ],
   "source": [
    "imdb_mean"
   ]
  },
  {
   "cell_type": "code",
   "execution_count": 29,
   "id": "23ec09ec-ffed-4ffc-a6f8-be6c6eadd8dc",
   "metadata": {},
   "outputs": [],
   "source": [
    "imdb_sd <- sd(movie_body_counts$IMDB_Rating)"
   ]
  },
  {
   "cell_type": "code",
   "execution_count": 31,
   "id": "ed8c15a8-d5b7-477a-9885-8a0a27b4e741",
   "metadata": {},
   "outputs": [
    {
     "data": {
      "text/html": [
       "1.11351582775048"
      ],
      "text/latex": [
       "1.11351582775048"
      ],
      "text/markdown": [
       "1.11351582775048"
      ],
      "text/plain": [
       "[1] 1.113516"
      ]
     },
     "metadata": {},
     "output_type": "display_data"
    }
   ],
   "source": [
    "imdb_sd"
   ]
  },
  {
   "cell_type": "markdown",
   "id": "62c524b4-ec22-4f10-8238-fffd36520e22",
   "metadata": {},
   "source": [
    "Давайте згенеруємо нормальний розподіл, який має середнє\n",
    "значення imdb_mean та середньоквадратичне відхилення\n",
    "imdb_sd. Для цього використаємо функцію rnorm. Для того,\n",
    "щоб послідовність, яка генерується була сталою, при кожному\n",
    "виконанні нашого коду, встановимо параметр set.seed"
   ]
  },
  {
   "cell_type": "code",
   "execution_count": 34,
   "id": "d1fe245a-208f-4e93-b55b-a7191eef64b3",
   "metadata": {},
   "outputs": [],
   "source": [
    "set.seed(900)\n",
    "imdb_simulation <- rnorm(n=nrow(movie_body_counts), mean = imdb_mean, sd = imdb_sd) "
   ]
  },
  {
   "cell_type": "code",
   "execution_count": 36,
   "id": "d20da6cc-1e0c-4189-b4a3-4041f66044ab",
   "metadata": {},
   "outputs": [],
   "source": [
    "movie_body_counts$imdb_simulation <- imdb_simulation # Додамо ці значення до нашої таблиці"
   ]
  },
  {
   "cell_type": "code",
   "execution_count": 38,
   "id": "d20d52ce-b807-4bd6-927c-d207434a499a",
   "metadata": {},
   "outputs": [
    {
     "data": {
      "image/png": "[encoded data removed]",
      "text/plain": [
       "plot without title"
      ]
     },
     "metadata": {
      "image/png": {
       "height": 420,
       "width": 420
      }
     },
     "output_type": "display_data"
    }
   ],
   "source": [
    "# Побудуємо гістограму для цієї симуляції:\n",
    "ggplot(movie_body_counts, aes(x=imdb_simulation)) +\n",
    " geom_histogram(bins=10, color=\"grey\", fill=\"lightblue\") "
   ]
  },
  {
   "cell_type": "markdown",
   "id": "543c0f10-b0a1-4322-b3ae-84ab41f79f07",
   "metadata": {},
   "source": [
    "Для перевірки, чи є розподіл нормальним, використовується\n",
    "функція qqplot. Давайте скористаємося нею для перевірки чи є\n",
    "нормально розподілені дані рейтингу IMDB. Спочатку\n",
    "побудуємо qqplot для нашої симуляції imdb_simulation:"
   ]
  },
  {
   "cell_type": "code",
   "execution_count": 41,
   "id": "cf9e174d-4aa9-49c4-85d8-ac42d4009f80",
   "metadata": {},
   "outputs": [
    {
     "data": {
      "image/png": "[encoded data removed]",
      "text/plain": [
       "plot without title"
      ]
     },
     "metadata": {
      "image/png": {
       "height": 420,
       "width": 420
      }
     },
     "output_type": "display_data"
    }
   ],
   "source": [
    "ggplot(movie_body_counts, aes(sample = imdb_simulation)) + stat_qq()"
   ]
  },
  {
   "cell_type": "code",
   "execution_count": 43,
   "id": "f217b31a-2b72-439c-8644-67cc44fbaa6a",
   "metadata": {},
   "outputs": [
    {
     "data": {
      "image/png": "[encoded data removed]",
      "text/plain": [
       "plot without title"
      ]
     },
     "metadata": {
      "image/png": {
       "height": 420,
       "width": 420
      }
     },
     "output_type": "display_data"
    }
   ],
   "source": [
    "# А тепер для справжнього рейтингу IMDB_Rating:\n",
    "ggplot(movie_body_counts, aes(sample = IMDB_Rating)) + stat_qq()"
   ]
  },
  {
   "cell_type": "code",
   "execution_count": 45,
   "id": "b81b28a9-f5ea-460e-abb5-695a98d3bc30",
   "metadata": {},
   "outputs": [
    {
     "data": {
      "text/html": [
       "0.00543493013425649"
      ],
      "text/latex": [
       "0.00543493013425649"
      ],
      "text/markdown": [
       "0.00543493013425649"
      ],
      "text/plain": [
       "[1] 0.00543493"
      ]
     },
     "metadata": {},
     "output_type": "display_data"
    }
   ],
   "source": [
    "# Для згенерованого IMDB (змінна 'imdb_simulation'), яка ймовірність отримати IMDB 4.0 або менше?\n",
    "pnorm(4.0, mean=6.83596330275229, sd=1.11351582775048)"
   ]
  },
  {
   "cell_type": "code",
   "execution_count": 47,
   "id": "49df2257-56e0-4b77-a170-25caf3ac3454",
   "metadata": {},
   "outputs": [
    {
     "data": {
      "text/html": [
       "0.852074137921658"
      ],
      "text/latex": [
       "0.852074137921658"
      ],
      "text/markdown": [
       "0.852074137921658"
      ],
      "text/plain": [
       "[1] 0.8520741"
      ]
     },
     "metadata": {},
     "output_type": "display_data"
    }
   ],
   "source": [
    "# Для згенерованого IMDB (змінна imdb_simulation), яка ймовірність значення між 4 і 8?\n",
    "pnorm(8.0, mean=6.83596330275229, sd=1.11351582775048)"
   ]
  },
  {
   "cell_type": "code",
   "execution_count": 49,
   "id": "b00d3b9b-dd1f-4491-a988-8805a334a0a8",
   "metadata": {},
   "outputs": [
    {
     "data": {
      "text/html": [
       "0.0704771491414101"
      ],
      "text/latex": [
       "0.0704771491414101"
      ],
      "text/markdown": [
       "0.0704771491414101"
      ],
      "text/plain": [
       "[1] 0.07047715"
      ]
     },
     "metadata": {},
     "output_type": "display_data"
    }
   ],
   "source": [
    "# Знайдіть коефіцієнт кореляції між кількістю загиблих у фільмі та рейтином IMDB.\n",
    "cor(movie_body_counts$Body_Count, movie_body_counts$IMDB_Rating)"
   ]
  },
  {
   "cell_type": "markdown",
   "id": "07d8ba75-3c2b-4b2e-a366-dc2fb384dddd",
   "metadata": {},
   "source": [
    "Немає лінійної залежності між кількістю загиблих у фільмі та рейтином IMDB."
   ]
  },
  {
   "cell_type": "code",
   "execution_count": null,
   "id": "653eb717-0c18-4a1f-bc1f-7d289f31fb6a",
   "metadata": {},
   "outputs": [],
   "source": []
  }
 ],
 "metadata": {
  "kernelspec": {
   "display_name": "R [conda env:rpython]",
   "language": "R",
   "name": "conda-env-rpython-r"
  },
  "language_info": {
   "codemirror_mode": "r",
   "file_extension": ".r",
   "mimetype": "text/x-r-source",
   "name": "R",
   "pygments_lexer": "r",
   "version": "4.3.1"
  }
 },
 "nbformat": 4,
 "nbformat_minor": 5
}
