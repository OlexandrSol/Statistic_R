{
 "cells": [
  {
   "cell_type": "markdown",
   "id": "1edffdd5-c8e6-45d0-b388-88240f281dff",
   "metadata": {},
   "source": [
    "Тестування гіпотез для середнього значення\n",
    "Розглянемо тестування гіпотез для середнього значення на\n",
    "прикладі.\n",
    "9 листопада 1965 року в енергосистемі США сталася аварія. 30\n",
    "мільйонів людей протягом 13 годин перебували без світла. Це\n",
    "аварія\n",
    "відома\n",
    "як\n",
    "Northeast\n",
    "Blackout\n",
    "https://en.wikipedia.org/wiki/Northeast_blackout_of_1965 Через 9\n",
    "місяців (10 серпня 1966) в NY Times опубліковане дослідження,\n",
    "яке\n",
    "стверджувало,\n",
    "що\n",
    "значно\n",
    "в\n",
    "Нью\n",
    "Йорку\n",
    "зросла\n",
    "народжуваність. Видання вважало причиною саме Northeast\n",
    "Blackout. Давайте проаналізуємо кількість новонароджених у\n",
    "перші два тижні серпня 1966 і визначимо, чи це значення\n",
    "статистично відрізняється від звичайного рівня народжуваності\n",
    "в Нью Йорку (середня кількість новонароджених на той час\n",
    "складала 430 на добу)."
   ]
  },
  {
   "cell_type": "markdown",
   "id": "ed46e69a-2002-4b07-916b-7d0b1904226c",
   "metadata": {},
   "source": [
    "Для цієї вибірки маємо:\n",
    "𝑥 = 432.21,\n",
    "s = 40.48\n",
    "n = 14\n",
    "Сформулюємо нульову гіпотезу: \"Відключення електроенергії у\n",
    "листопаді 1965 року впливу на кількість новонароджених не\n",
    "має, тобто середнє значення таке ж, як і в інші місяці\"."
   ]
  },
  {
   "cell_type": "code",
   "execution_count": 1,
   "id": "978e29b4-0a64-4f35-ba21-15a97cecf1ed",
   "metadata": {},
   "outputs": [
    {
     "name": "stderr",
     "output_type": "stream",
     "text": [
      "\n",
      "Attaching package: ‘dplyr’\n",
      "\n",
      "\n",
      "The following objects are masked from ‘package:stats’:\n",
      "\n",
      "    filter, lag\n",
      "\n",
      "\n",
      "The following objects are masked from ‘package:base’:\n",
      "\n",
      "    intersect, setdiff, setequal, union\n",
      "\n",
      "\n"
     ]
    }
   ],
   "source": [
    "library(dplyr)"
   ]
  },
  {
   "cell_type": "code",
   "execution_count": 3,
   "id": "bbc9894c-fd83-4584-a10f-8d4b56c730ae",
   "metadata": {},
   "outputs": [],
   "source": [
    "# В R є вбудований функціонал для проведення тесту на значущість. Це функція t-test\n",
    "newborns <- c(452, 470, 431, 448, 467, 377, 344, 449, 440, 457, 471, 463, 405, 377)"
   ]
  },
  {
   "cell_type": "markdown",
   "id": "099b66c9-1bda-432f-9569-e99b8a0ae021",
   "metadata": {},
   "source": [
    "Використаємо функцію t-test, в якості параметрів вкажемо alternative=\"two.sided\"\n",
    "оскільки розглядаємо двосторонню альтернативу, mu=430 - значення середнього для\n",
    "генеральної сукупності згідно нульової гіпотези та рівень\n",
    "значущості conf.level = 0.95:"
   ]
  },
  {
   "cell_type": "code",
   "execution_count": 10,
   "id": "d28bbd04-b0f0-4488-9a9c-f00c59bd5be1",
   "metadata": {},
   "outputs": [
    {
     "data": {
      "text/plain": [
       "\n",
       "\tOne Sample t-test\n",
       "\n",
       "data:  newborns\n",
       "t = 0.20464, df = 13, p-value = 0.841\n",
       "alternative hypothesis: true mean is not equal to 430\n",
       "95 percent confidence interval:\n",
       " 408.8384 455.5901\n",
       "sample estimates:\n",
       "mean of x \n",
       " 432.2143 \n"
      ]
     },
     "metadata": {},
     "output_type": "display_data"
    }
   ],
   "source": [
    "t.test(newborns, alternative = \"two.sided\", mu=430, conf.level = 0.95)"
   ]
  },
  {
   "cell_type": "markdown",
   "id": "6272b4d0-9c35-41f1-b38e-0a2bb558fe96",
   "metadata": {},
   "source": [
    "Це означає, що для кількості новонароджених у Нью Йорку p-\n",
    "value = 0.814, що не дозволяє відкинути нульову гіпотезу для\n",
    "рівня значущості 𝛼=0.05. Іншими словами, можна сказати що\n",
    "різниця між нульовою гіпотезою та даними вибірки не є\n",
    "статистично значущою. Тобто наші дані не підтверджують\n",
    "гіпотезу, що рівень народжуваності у перші два тижні серпня\n",
    "1966\n",
    "відрізняється\n",
    "від\n",
    "звичного.\n",
    "Тобто,\n",
    "відсутність\n",
    "електроенергії не мало впливу на рівень народжуваності."
   ]
  },
  {
   "cell_type": "markdown",
   "id": "13b75a45-8c4b-471c-9659-1922bfa80c09",
   "metadata": {},
   "source": [
    "Тестування гіпотез для пропорції\n",
    "Розглянемо приклад тестування гіпотез для пропорції:\n",
    "Чи відрізняється відсоток новонароджених хлопчиків від 50%?\n",
    "У вибірці 200 новонароджених, з них 96 хлопчики.\n",
    "𝐻0 : 𝑝 = 0.5\n",
    "𝐻a : 𝑝 ≠ 0.5 Рівень довіри 𝛼 = 0.05"
   ]
  },
  {
   "cell_type": "markdown",
   "id": "f397afcf-37b2-4880-a0b7-2ffd77bd9748",
   "metadata": {},
   "source": [
    "В R для тестування гіпотези про значення пропорції можна\n",
    "використовувати\n",
    "функцію\n",
    "prop.test\n",
    "з\n",
    "параметрами\n",
    "alternative = \"two.sided\" (може бути ще less або greater\n",
    "для односторонніх альтернатив) та correct\n",
    "=FALSE\n",
    "(correct=TRUE означає застосування Yates' continuity correction\n",
    "http://www.statisticshowto.com/what-is-the-yates-correction/)"
   ]
  },
  {
   "cell_type": "code",
   "execution_count": 17,
   "id": "90a86340-e724-4911-8019-32d80244d3ad",
   "metadata": {},
   "outputs": [
    {
     "data": {
      "text/plain": [
       "\n",
       "\t1-sample proportions test without continuity correction\n",
       "\n",
       "data:  96 out of 200, null probability 0.5\n",
       "X-squared = 0.32, df = 1, p-value = 0.5716\n",
       "alternative hypothesis: true p is not equal to 0.5\n",
       "95 percent confidence interval:\n",
       " 0.4117917 0.5489621\n",
       "sample estimates:\n",
       "   p \n",
       "0.48 \n"
      ]
     },
     "metadata": {},
     "output_type": "display_data"
    }
   ],
   "source": [
    "prop.test(96, 200, alternative=\"two.sided\", correct=FALSE)"
   ]
  },
  {
   "cell_type": "markdown",
   "id": "613fee75-a0d1-4166-afe9-41c70a2e2870",
   "metadata": {},
   "source": [
    "Як бачимо, довірчий інтервал для рівня надійності 95%\n",
    "[0.4117917, 0.5489621] включає значення 𝐻0\n",
    "Тобто наші дані не підтверджують гіпотезу, що відсоток\n",
    "хлопчиків серед новонароджених відрізняється від 50%."
   ]
  },
  {
   "cell_type": "code",
   "execution_count": null,
   "id": "1115b9c2-bc7c-48e5-a8e6-f1261798601f",
   "metadata": {},
   "outputs": [],
   "source": []
  }
 ],
 "metadata": {
  "kernelspec": {
   "display_name": "R [conda env:rpython]",
   "language": "R",
   "name": "conda-env-rpython-r"
  },
  "language_info": {
   "codemirror_mode": "r",
   "file_extension": ".r",
   "mimetype": "text/x-r-source",
   "name": "R",
   "pygments_lexer": "r",
   "version": "4.3.1"
  }
 },
 "nbformat": 4,
 "nbformat_minor": 5
}
